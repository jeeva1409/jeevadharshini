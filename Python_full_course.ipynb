{
  "nbformat": 4,
  "nbformat_minor": 0,
  "metadata": {
    "colab": {
      "provenance": [],
      "authorship_tag": "ABX9TyN0nmRviSzmngnHnqlV8Amf",
      "include_colab_link": true
    },
    "kernelspec": {
      "name": "python3",
      "display_name": "Python 3"
    },
    "language_info": {
      "name": "python"
    }
  },
  "cells": [
    {
      "cell_type": "markdown",
      "metadata": {
        "id": "view-in-github",
        "colab_type": "text"
      },
      "source": [
        "<a href=\"https://colab.research.google.com/github/jeeva1409/jeevadharshini/blob/main/Python_full_course.ipynb\" target=\"_parent\"><img src=\"https://colab.research.google.com/assets/colab-badge.svg\" alt=\"Open In Colab\"/></a>"
      ]
    },
    {
      "cell_type": "markdown",
      "source": [
        "# INTRODUCTION TO PYTHON:\n",
        "    Python is a object oriented programming language\n",
        "    It is very high level programming language--closer to human language\n",
        "    It is interpreted programming language known for its simplicity and readability\n",
        "\n",
        "\n",
        "\n",
        "\n",
        "\n"
      ],
      "metadata": {
        "id": "Ze4xedUPAv--"
      }
    },
    {
      "cell_type": "markdown",
      "source": [
        "# What is Python\n",
        "Python is high-level,interpreted and general purpose programming language known for its simplicity and readability it is widely used in web development,data science,AI and automation"
      ],
      "metadata": {
        "id": "9QylMQy3CZzH"
      }
    },
    {
      "cell_type": "markdown",
      "source": [
        "# Why Python is Popular:\n",
        "**Easy to Learn and Use**\n",
        "\n",
        "Python has a simple and readable syntax, making it beginner-friendly.\n",
        "\n",
        "It uses English-like commands (e.g., print(\"Hello, World!\")) which make coding easier.\n",
        "\n",
        "**Versatile and Multi-Purpose**\n",
        "\n",
        "Can be used for web development, data science, AI/ML, automation, scripting, and more.\n",
        "\n",
        "Works on different operating systems like Windows, macOS, and Linux.\n",
        "\n",
        "**Huge Community and Libraries**\n",
        "\n",
        "A vast community means quick help and lots of learning resources.\n",
        "\n",
        "Has powerful libraries like NumPy, Pandas (for data analysis), TensorFlow (for AI), Flask/Django (for web development), Selenium (for automation), and more.\n",
        "\n",
        "**Used in High-Demand Fields**\n",
        "\n",
        "Essential for AI, machine learning, cybersecurity, data science, automation, and finance.\n",
        "\n",
        "Top companies like Google, Amazon, Microsoft, and Netflix use Python.\n",
        "\n",
        "\n",
        "**Integration and Scalability**\n",
        "\n",
        "Can be integrated with C, C++, Java, and other languages.\n",
        "\n",
        "Used in both small projects and large-scale applications.\n"
      ],
      "metadata": {
        "id": "-kUh4lICDUqT"
      }
    },
    {
      "cell_type": "markdown",
      "source": [
        "# What is Integration:\n",
        "Integration in Python means connecting Python with other software, databases, or programming languages to work together smoothly.\n",
        "\n",
        "It's like:\n",
        "\n",
        "🧩 Two different puzzle pieces fitting together to complete a picture.\n",
        "\n",
        "# How Integration is Used:\n",
        "Integration Type\tPurpose\tExample\n",
        "\n",
        "**API Integration**\n",
        "  \n",
        "Connect Python to external services\tUsing a weather API to get real-time weather data\n",
        "\n",
        "**Database Integration**\n",
        "\n",
        "Store and retrieve data\tConnecting Python to MySQL or MongoDB\n",
        "\n",
        "**Web Integration**\n",
        "\n",
        "Build websites\tUsing Flask/Django to create web apps\n",
        "\n",
        "**Language Integration**\n",
        "\n",
        "Use Python with C, Java, or JavaScript\n",
        "\n",
        "Using Python for AI and Java for backend\n",
        "\n",
        "**Cloud Integration**\n",
        "\n",
        "Use cloud services in Python\n",
        "\n",
        "Uploading files to Google Drive using Python\n",
        "\n"
      ],
      "metadata": {
        "id": "WG8jsOCyFQIg"
      }
    },
    {
      "cell_type": "markdown",
      "source": [
        "# How to Use Integration in Python? (Real-Time Example):\n",
        "\n",
        "**Example 1: API Integration (Fetching Weather Data)**"
      ],
      "metadata": {
        "id": "q9X764s2G9HZ"
      }
    },
    {
      "cell_type": "code",
      "source": [
        "pip install requests\n"
      ],
      "metadata": {
        "id": "7AFaDSR2J-4e",
        "outputId": "07a3f74d-22b3-48b4-d4d9-f383238d2acd",
        "colab": {
          "base_uri": "https://localhost:8080/"
        }
      },
      "execution_count": 11,
      "outputs": [
        {
          "output_type": "stream",
          "name": "stdout",
          "text": [
            "Requirement already satisfied: requests in /usr/local/lib/python3.11/dist-packages (2.32.3)\n",
            "Requirement already satisfied: charset-normalizer<4,>=2 in /usr/local/lib/python3.11/dist-packages (from requests) (3.4.1)\n",
            "Requirement already satisfied: idna<4,>=2.5 in /usr/local/lib/python3.11/dist-packages (from requests) (3.10)\n",
            "Requirement already satisfied: urllib3<3,>=1.21.1 in /usr/local/lib/python3.11/dist-packages (from requests) (2.3.0)\n",
            "Requirement already satisfied: certifi>=2017.4.17 in /usr/local/lib/python3.11/dist-packages (from requests) (2025.1.31)\n"
          ]
        }
      ]
    },
    {
      "cell_type": "code",
      "source": [
        "import requests\n",
        "\n",
        "city = \"New York\"  # Change this to any city name\n",
        "weather_res = requests.get(f\"https://wttr.in/{city}?format=3\")\n",
        "\n",
        "print(weather_res.text if weather_res.status_code == 200 else \"Weather data unavailable\")\n"
      ],
      "metadata": {
        "id": "5PKWHO1vKzpS",
        "outputId": "490dbeab-6583-468a-e1ba-08f2a6615a7e",
        "colab": {
          "base_uri": "https://localhost:8080/"
        }
      },
      "execution_count": 15,
      "outputs": [
        {
          "output_type": "stream",
          "name": "stdout",
          "text": [
            "New York: ☀️   +9°C\n",
            "\n"
          ]
        }
      ]
    },
    {
      "cell_type": "markdown",
      "source": [
        "# Why pip install requests:\n",
        "\n",
        "Your script uses the requests module, but Python does not come with it pre-installed. That's why you need to install it manually using pip (Python's package manager).\n",
        "\n",
        "# Purpose of pip install requests:\n",
        "\n",
        "1️⃣ requests module is not built-in → It must be installed separately.\n",
        "\n",
        "2️⃣ It allows sending HTTP requests easily in Python.\n",
        "\n",
        "3️⃣ It helps communicate with web servers & APIs (like getting weather data).\n",
        "\n",
        "\n",
        "\n",
        "\n"
      ],
      "metadata": {
        "id": "szSvd5fMLd1C"
      }
    },
    {
      "cell_type": "markdown",
      "source": [
        "# What is HTTP:\n",
        "\n",
        "HTTP (HyperText Transfer Protocol) is the foundation of communication on the web. It is a protocol that allows web browsers and servers to communicate and exchange data.\n",
        "\n",
        "# How HTTP Works?\n",
        "\n",
        "**Client (Browser) Sends a Request**\n",
        "\n",
        "When you type a URL (e.g., https://google.com), your browser sends an HTTP request to the website’s server.\n",
        "\n",
        "**Server Processes the Request**\n",
        "\n",
        "The web server receives the request, fetches the required data, and prepares a response.\n",
        "\n",
        "**Server Sends a Response**\n",
        "\n",
        "The server sends back an HTTP response, which includes the requested web page, images, or data.\n",
        "\n",
        "**Browser Displays the Web Page**\n",
        "\n",
        "The browser renders the response and displays the page to the user.\n",
        "\n",
        "# Example of an HTTP Request & Response:\n",
        "\n",
        "**Client (Request to the Server)**\n",
        "\n"
      ],
      "metadata": {
        "id": "aHoL1KxUMCm_"
      }
    },
    {
      "cell_type": "code",
      "source": [
        "import requests\n",
        "\n",
        "url = \"http://example.com/index.html\"  # Replace with your actual URL\n",
        "res = requests.get(url)  # Sending an HTTP GET request\n",
        "\n",
        "print(res.text)  # Printing the response content\n"
      ],
      "metadata": {
        "id": "hkjCNd9LNVNk",
        "outputId": "b26b09d8-3e8b-42df-c6aa-da2f3a52098b",
        "colab": {
          "base_uri": "https://localhost:8080/"
        }
      },
      "execution_count": 17,
      "outputs": [
        {
          "output_type": "stream",
          "name": "stdout",
          "text": [
            "<!doctype html>\n",
            "<html>\n",
            "<head>\n",
            "    <title>Example Domain</title>\n",
            "\n",
            "    <meta charset=\"utf-8\" />\n",
            "    <meta http-equiv=\"Content-type\" content=\"text/html; charset=utf-8\" />\n",
            "    <meta name=\"viewport\" content=\"width=device-width, initial-scale=1\" />\n",
            "    <style type=\"text/css\">\n",
            "    body {\n",
            "        background-color: #f0f0f2;\n",
            "        margin: 0;\n",
            "        padding: 0;\n",
            "        font-family: -apple-system, system-ui, BlinkMacSystemFont, \"Segoe UI\", \"Open Sans\", \"Helvetica Neue\", Helvetica, Arial, sans-serif;\n",
            "        \n",
            "    }\n",
            "    div {\n",
            "        width: 600px;\n",
            "        margin: 5em auto;\n",
            "        padding: 2em;\n",
            "        background-color: #fdfdff;\n",
            "        border-radius: 0.5em;\n",
            "        box-shadow: 2px 3px 7px 2px rgba(0,0,0,0.02);\n",
            "    }\n",
            "    a:link, a:visited {\n",
            "        color: #38488f;\n",
            "        text-decoration: none;\n",
            "    }\n",
            "    @media (max-width: 700px) {\n",
            "        div {\n",
            "            margin: 0 auto;\n",
            "            width: auto;\n",
            "        }\n",
            "    }\n",
            "    </style>    \n",
            "</head>\n",
            "\n",
            "<body>\n",
            "<div>\n",
            "    <h1>Example Domain</h1>\n",
            "    <p>This domain is for use in illustrative examples in documents. You may use this\n",
            "    domain in literature without prior coordination or asking for permission.</p>\n",
            "    <p><a href=\"https://www.iana.org/domains/example\">More information...</a></p>\n",
            "</div>\n",
            "</body>\n",
            "</html>\n",
            "\n"
          ]
        }
      ]
    }
  ]
}